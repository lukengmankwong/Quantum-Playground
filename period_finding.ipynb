{
 "cells": [
  {
   "cell_type": "code",
   "execution_count": 1,
   "id": "ec248c55-1ffb-46cf-8de7-2fb487f7f266",
   "metadata": {},
   "outputs": [],
   "source": [
    "# This implementation of the algorithm is based on the theory from:\n",
    "# Title: QUANTUM INFORMATION AND COMPUTATION Lecture notes\n",
    "# Author: Richard Jozsa\n",
    "# Section: Quantum Fourier transform and periodicities\n",
    "# URL: http://www.qi.damtp.cam.ac.uk/files/PartIIIQC/Part%20IIC%20QIC/PartIIC%20QIClectures%20Full.pdf"
   ]
  },
  {
   "cell_type": "code",
   "execution_count": 2,
   "id": "0d871608-5b2d-4799-a525-e18f8c13d9c0",
   "metadata": {},
   "outputs": [],
   "source": [
    "import numpy as np\n",
    "import matplotlib.pyplot as plt\n",
    "\n",
    "import qiskit.quantum_info as qi\n",
    "from qiskit import QuantumCircuit, QuantumRegister, ClassicalRegister, transpile\n",
    "from qiskit.circuit.library import QFT\n",
    "from qiskit.providers.basic_provider import BasicSimulator\n",
    "from qiskit.visualization import plot_distribution, plot_histogram"
   ]
  },
  {
   "cell_type": "code",
   "execution_count": 3,
   "id": "e9220c29-7f12-4be0-bd5c-2c6c020f725c",
   "metadata": {},
   "outputs": [
    {
     "name": "stdout",
     "output_type": "stream",
     "text": [
      "U_f unitary: True\n",
      "U_f shape: (4096, 4096)\n",
      "[[0. 0. 0. ... 0. 0. 0.]\n",
      " [0. 0. 0. ... 0. 0. 0.]\n",
      " [0. 0. 0. ... 0. 0. 0.]\n",
      " ...\n",
      " [0. 0. 0. ... 0. 0. 0.]\n",
      " [0. 0. 0. ... 0. 0. 0.]\n",
      " [0. 0. 0. ... 0. 0. 0.]]\n"
     ]
    }
   ],
   "source": [
    "#function f : Z_Nx -> Z_Ny with period r\n",
    "a, b = 9, 2\n",
    "r = 32\n",
    "def f(x):\n",
    "    return (a*x + b) % r\n",
    "\n",
    "n_qx = 7\n",
    "n_qy = 5\n",
    "Nx = 2**n_qx\n",
    "Ny = 2**n_qy\n",
    "\n",
    "#unitary query operator for f, takes |y>|x> to |y^f(x)>|x> where ^ is bitwise XOR\n",
    "U_f = np.zeros((Nx*Ny, Nx*Ny))\n",
    "for x in range(Nx):\n",
    "    for y in range(Ny):\n",
    "        z = y ^ f(x)\n",
    "        i = x + (z << n_qx)\n",
    "        j = x + (y << n_qx)\n",
    "        U_f[i][j] = 1\n",
    "\n",
    "#check U_f is unitary\n",
    "U_f_op = qi.Operator(U_f)\n",
    "U_f_unitary = U_f_op.is_unitary()\n",
    "print(\"U_f unitary:\", U_f_unitary)\n",
    "print(\"U_f shape:\", U_f.shape)\n",
    "print(U_f)"
   ]
  },
  {
   "cell_type": "code",
   "execution_count": 4,
   "id": "04df42a4-f842-49d2-8f74-183dd2f01a6d",
   "metadata": {},
   "outputs": [
    {
     "data": {
      "text/html": [
       "<pre style=\"word-wrap: normal;white-space: pre;background: #fff0;line-height: 1.1;font-family: &quot;Courier New&quot;,Courier,monospace\">     ┌───┐┌───────┐                ░ ┌──────┐┌─┐                  \n",
       "X_0: ┤ H ├┤0      ├────────────────░─┤0     ├┤M├──────────────────\n",
       "     ├───┤│       │                ░ │      │└╥┘┌─┐               \n",
       "X_1: ┤ H ├┤1      ├────────────────░─┤1     ├─╫─┤M├───────────────\n",
       "     ├───┤│       │                ░ │      │ ║ └╥┘┌─┐            \n",
       "X_2: ┤ H ├┤2      ├────────────────░─┤2     ├─╫──╫─┤M├────────────\n",
       "     ├───┤│       │                ░ │      │ ║  ║ └╥┘┌─┐         \n",
       "X_3: ┤ H ├┤3      ├────────────────░─┤3 QFT ├─╫──╫──╫─┤M├─────────\n",
       "     ├───┤│       │                ░ │      │ ║  ║  ║ └╥┘┌─┐      \n",
       "X_4: ┤ H ├┤4      ├────────────────░─┤4     ├─╫──╫──╫──╫─┤M├──────\n",
       "     ├───┤│       │                ░ │      │ ║  ║  ║  ║ └╥┘┌─┐   \n",
       "X_5: ┤ H ├┤5      ├────────────────░─┤5     ├─╫──╫──╫──╫──╫─┤M├───\n",
       "     ├───┤│   U_f │                ░ │      │ ║  ║  ║  ║  ║ └╥┘┌─┐\n",
       "X_6: ┤ H ├┤6      ├────────────────░─┤6     ├─╫──╫──╫──╫──╫──╫─┤M├\n",
       "     └───┘│       │┌─┐             ░ └──────┘ ║  ║  ║  ║  ║  ║ └╥┘\n",
       "Y_0: ─────┤7      ├┤M├─────────────░──────────╫──╫──╫──╫──╫──╫──╫─\n",
       "          │       │└╥┘┌─┐          ░          ║  ║  ║  ║  ║  ║  ║ \n",
       "Y_1: ─────┤8      ├─╫─┤M├──────────░──────────╫──╫──╫──╫──╫──╫──╫─\n",
       "          │       │ ║ └╥┘┌─┐       ░          ║  ║  ║  ║  ║  ║  ║ \n",
       "Y_2: ─────┤9      ├─╫──╫─┤M├───────░──────────╫──╫──╫──╫──╫──╫──╫─\n",
       "          │       │ ║  ║ └╥┘┌─┐    ░          ║  ║  ║  ║  ║  ║  ║ \n",
       "Y_3: ─────┤10     ├─╫──╫──╫─┤M├────░──────────╫──╫──╫──╫──╫──╫──╫─\n",
       "          │       │ ║  ║  ║ └╥┘┌─┐ ░          ║  ║  ║  ║  ║  ║  ║ \n",
       "Y_4: ─────┤11     ├─╫──╫──╫──╫─┤M├─░──────────╫──╫──╫──╫──╫──╫──╫─\n",
       "          └───────┘ ║  ║  ║  ║ └╥┘ ░          ║  ║  ║  ║  ║  ║  ║ \n",
       "A: 7/═══════════════╬══╬══╬══╬══╬═════════════╩══╩══╩══╩══╩══╩══╩═\n",
       "                    ║  ║  ║  ║  ║             0  1  2  3  4  5  6 \n",
       "B: 5/═══════════════╩══╩══╩══╩══╩═════════════════════════════════\n",
       "                    0  1  2  3  4                                 </pre>"
      ],
      "text/plain": [
       "     ┌───┐┌───────┐                ░ ┌──────┐┌─┐                  \n",
       "X_0: ┤ H ├┤0      ├────────────────░─┤0     ├┤M├──────────────────\n",
       "     ├───┤│       │                ░ │      │└╥┘┌─┐               \n",
       "X_1: ┤ H ├┤1      ├────────────────░─┤1     ├─╫─┤M├───────────────\n",
       "     ├───┤│       │                ░ │      │ ║ └╥┘┌─┐            \n",
       "X_2: ┤ H ├┤2      ├────────────────░─┤2     ├─╫──╫─┤M├────────────\n",
       "     ├───┤│       │                ░ │      │ ║  ║ └╥┘┌─┐         \n",
       "X_3: ┤ H ├┤3      ├────────────────░─┤3 QFT ├─╫──╫──╫─┤M├─────────\n",
       "     ├───┤│       │                ░ │      │ ║  ║  ║ └╥┘┌─┐      \n",
       "X_4: ┤ H ├┤4      ├────────────────░─┤4     ├─╫──╫──╫──╫─┤M├──────\n",
       "     ├───┤│       │                ░ │      │ ║  ║  ║  ║ └╥┘┌─┐   \n",
       "X_5: ┤ H ├┤5      ├────────────────░─┤5     ├─╫──╫──╫──╫──╫─┤M├───\n",
       "     ├───┤│   U_f │                ░ │      │ ║  ║  ║  ║  ║ └╥┘┌─┐\n",
       "X_6: ┤ H ├┤6      ├────────────────░─┤6     ├─╫──╫──╫──╫──╫──╫─┤M├\n",
       "     └───┘│       │┌─┐             ░ └──────┘ ║  ║  ║  ║  ║  ║ └╥┘\n",
       "Y_0: ─────┤7      ├┤M├─────────────░──────────╫──╫──╫──╫──╫──╫──╫─\n",
       "          │       │└╥┘┌─┐          ░          ║  ║  ║  ║  ║  ║  ║ \n",
       "Y_1: ─────┤8      ├─╫─┤M├──────────░──────────╫──╫──╫──╫──╫──╫──╫─\n",
       "          │       │ ║ └╥┘┌─┐       ░          ║  ║  ║  ║  ║  ║  ║ \n",
       "Y_2: ─────┤9      ├─╫──╫─┤M├───────░──────────╫──╫──╫──╫──╫──╫──╫─\n",
       "          │       │ ║  ║ └╥┘┌─┐    ░          ║  ║  ║  ║  ║  ║  ║ \n",
       "Y_3: ─────┤10     ├─╫──╫──╫─┤M├────░──────────╫──╫──╫──╫──╫──╫──╫─\n",
       "          │       │ ║  ║  ║ └╥┘┌─┐ ░          ║  ║  ║  ║  ║  ║  ║ \n",
       "Y_4: ─────┤11     ├─╫──╫──╫──╫─┤M├─░──────────╫──╫──╫──╫──╫──╫──╫─\n",
       "          └───────┘ ║  ║  ║  ║ └╥┘ ░          ║  ║  ║  ║  ║  ║  ║ \n",
       "A: 7/═══════════════╬══╬══╬══╬══╬═════════════╩══╩══╩══╩══╩══╩══╩═\n",
       "                    ║  ║  ║  ║  ║             0  1  2  3  4  5  6 \n",
       "B: 5/═══════════════╩══╩══╩══╩══╩═════════════════════════════════\n",
       "                    0  1  2  3  4                                 "
      ]
     },
     "metadata": {},
     "output_type": "display_data"
    }
   ],
   "source": [
    "#create quantum circuit\n",
    "\n",
    "X = QuantumRegister(n_qx, \"X\")\n",
    "Y = QuantumRegister(n_qy, \"Y\")\n",
    "A = ClassicalRegister(n_qx, \"A\")\n",
    "B = ClassicalRegister(n_qy, \"B\")\n",
    "circuit = QuantumCircuit(X,Y,A,B)\n",
    "\n",
    "circuit.h(X)\n",
    "circuit.unitary(U_f_op, range(n_qx+n_qy), \"U_f\")\n",
    "circuit.measure(Y, B)\n",
    "circuit.barrier()\n",
    "circuit.append(QFT(n_qx), range(n_qx))\n",
    "circuit.measure(X, A)\n",
    "\n",
    "display(circuit.draw())"
   ]
  },
  {
   "cell_type": "code",
   "execution_count": 5,
   "id": "a3a1872a-d1c8-4d51-a798-28e14b9bcb72",
   "metadata": {},
   "outputs": [
    {
     "name": "stdout",
     "output_type": "stream",
     "text": [
      "r = 32 found in 3 attempt(s).\n"
     ]
    }
   ],
   "source": [
    "simulator = BasicSimulator()\n",
    "circuit_t = transpile(circuit, backend = simulator)\n",
    "\n",
    "found = False\n",
    "attempts = 0\n",
    "while not found:\n",
    "    attempts += 1\n",
    "    job = simulator.run(circuit_t, shots=1)\n",
    "    result = job.result()\n",
    "    reg = next(iter(result.get_counts()))\n",
    "    c = int(reg[-n_qx:], 2)\n",
    "    q = np.gcd(c,Nx)\n",
    "    r_ = Nx//q\n",
    "    if (f(0) == f(r_)):\n",
    "        print(f\"r = {r_} found in {attempts} attempt(s).\")\n",
    "        found = True\n",
    "        "
   ]
  },
  {
   "cell_type": "code",
   "execution_count": null,
   "id": "a265bbce-0024-46eb-a740-62c43abd3070",
   "metadata": {},
   "outputs": [],
   "source": []
  }
 ],
 "metadata": {
  "kernelspec": {
   "display_name": "Python 3 (ipykernel)",
   "language": "python",
   "name": "python3"
  },
  "language_info": {
   "codemirror_mode": {
    "name": "ipython",
    "version": 3
   },
   "file_extension": ".py",
   "mimetype": "text/x-python",
   "name": "python",
   "nbconvert_exporter": "python",
   "pygments_lexer": "ipython3",
   "version": "3.13.1"
  }
 },
 "nbformat": 4,
 "nbformat_minor": 5
}
