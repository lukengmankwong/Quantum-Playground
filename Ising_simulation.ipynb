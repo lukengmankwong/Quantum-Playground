{
 "cells": [
  {
   "cell_type": "code",
   "execution_count": 1,
   "id": "dd1c7fb9-120a-47b7-b486-a88054f98715",
   "metadata": {},
   "outputs": [],
   "source": [
    "# This code is adapted from IBM Quantum Learning, Variational quantum eigensolver\n",
    "# URL: https://learning.quantum.ibm.com/tutorial/variational-quantum-eigensolver"
   ]
  },
  {
   "cell_type": "code",
   "execution_count": 2,
   "id": "b99fe679-41b7-4804-9b03-d8a355e29d6b",
   "metadata": {},
   "outputs": [],
   "source": [
    "import numpy as np\n",
    "from scipy.optimize import minimize\n",
    "import matplotlib.pyplot as plt"
   ]
  },
  {
   "cell_type": "code",
   "execution_count": 3,
   "id": "f55d3695-e1ed-4bb2-962d-8671fa3cd849",
   "metadata": {},
   "outputs": [],
   "source": [
    "import qiskit.quantum_info as qi\n",
    "\n",
    "n_q = 6\n",
    "J = np.random.uniform(-1,1,n_q-1)\n",
    "h = np.random.uniform(-1,1,n_q-1)\n",
    "mu = 1\n",
    "\n",
    "H_A = []\n",
    "for i in range(n_q-1):\n",
    "    j = i+1\n",
    "    A = qi.SparsePauliOp.from_sparse_list(\n",
    "        [(\"ZZ\", [i, j], J[i])], num_qubits=n_q\n",
    "    )\n",
    "    H_A.append(A)\n",
    "\n",
    "H_B = []\n",
    "for i in range(n_q):\n",
    "    B = qi.SparsePauliOp.from_sparse_list(\n",
    "        [(\"Z\", [i], mu)], num_qubits=n_q\n",
    "    )\n",
    "    H_B.append(B)\n",
    "\n",
    "\n",
    "H = sum(H_A) + sum(H_B)"
   ]
  },
  {
   "cell_type": "code",
   "execution_count": 4,
   "id": "d68464d0-8cd6-40bf-885f-4386a69065ee",
   "metadata": {},
   "outputs": [],
   "source": [
    "from qiskit.circuit.library import EfficientSU2\n",
    "ansatz = EfficientSU2(n_q)"
   ]
  },
  {
   "cell_type": "code",
   "execution_count": 5,
   "id": "41f4692b-053d-4e9d-805d-06bff85077e0",
   "metadata": {},
   "outputs": [],
   "source": [
    "from qiskit_aer import AerSimulator\n",
    "from qiskit.transpiler.preset_passmanagers import generate_preset_pass_manager\n",
    "\n",
    "backend = AerSimulator()\n",
    "target = backend.target\n",
    "pm = generate_preset_pass_manager(target=target, optimization_level=3)\n",
    "ansatz_isa = pm.run(ansatz)\n",
    "H_isa = H.apply_layout(layout=ansatz_isa.layout)"
   ]
  },
  {
   "cell_type": "code",
   "execution_count": 6,
   "id": "50b36012-1c79-4316-86f2-fdf97be635f8",
   "metadata": {},
   "outputs": [],
   "source": [
    "def cost_func(params, ansatz, hamiltonian, estimator):\n",
    "    \"\"\"Return estimate of energy from estimator\n",
    "\n",
    "    Parameters:\n",
    "        params (ndarray): Array of ansatz parameters\n",
    "        ansatz (QuantumCircuit): Parameterized ansatz circuit\n",
    "        hamiltonian (SparsePauliOp): Operator representation of Hamiltonian\n",
    "        estimator (EstimatorV2): Estimator primitive instance\n",
    "        cost_history_dict: Dictionary for storing intermediate results\n",
    "\n",
    "    Returns:\n",
    "        float: Energy estimate\n",
    "    \"\"\"\n",
    "    pub = (ansatz, [hamiltonian], [params])\n",
    "    result = estimator.run(pubs=[pub]).result()\n",
    "    energy = result[0].data.evs[0]\n",
    "\n",
    "    cost_history_dict[\"iters\"] += 1\n",
    "    cost_history_dict[\"prev_vector\"] = params\n",
    "    cost_history_dict[\"cost_history\"].append(energy)\n",
    "    #print(f\"Iters. done: {cost_history_dict['iters']} [Current cost: {energy}]\")\n",
    "    \n",
    "    return energy\n",
    "    "
   ]
  },
  {
   "cell_type": "code",
   "execution_count": 7,
   "id": "1c92ccc8-4b97-4221-9302-fbaaf08ccc80",
   "metadata": {},
   "outputs": [],
   "source": [
    "from qiskit_aer.primitives import EstimatorV2\n",
    "\n",
    "estimator = EstimatorV2()\n",
    "\n",
    "cost_history_dict = {\n",
    "    \"prev_vector\": None,\n",
    "    \"iters\": 0,\n",
    "    \"cost_history\": [],\n",
    "}\n",
    "\n",
    "x0 = np.random.uniform(0,2*np.pi, ansatz.num_parameters)"
   ]
  },
  {
   "cell_type": "code",
   "execution_count": null,
   "id": "4b382274-d878-4bd7-8f30-266b3b7a1b90",
   "metadata": {},
   "outputs": [],
   "source": [
    "res = minimize(\n",
    "    cost_func,\n",
    "    x0,\n",
    "    args=(ansatz_isa, H_isa, estimator),\n",
    "    #method=\"cobyla\",\n",
    ")\n",
    "E_ground_sim = res.fun\n",
    "minimizer = res.x\n",
    "print(\"E0 =\", E_ground_sim)"
   ]
  },
  {
   "cell_type": "code",
   "execution_count": null,
   "id": "96c16a89-03a7-47a0-b029-9a73bbefc73b",
   "metadata": {},
   "outputs": [],
   "source": []
  }
 ],
 "metadata": {
  "kernelspec": {
   "display_name": "Python 3 (ipykernel)",
   "language": "python",
   "name": "python3"
  },
  "language_info": {
   "codemirror_mode": {
    "name": "ipython",
    "version": 3
   },
   "file_extension": ".py",
   "mimetype": "text/x-python",
   "name": "python",
   "nbconvert_exporter": "python",
   "pygments_lexer": "ipython3",
   "version": "3.13.1"
  }
 },
 "nbformat": 4,
 "nbformat_minor": 5
}
